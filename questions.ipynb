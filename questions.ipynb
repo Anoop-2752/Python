{
 "cells": [
  {
   "cell_type": "markdown",
   "metadata": {},
   "source": [
    "### 1. Given a list of numbers, write a python function to find the second highest number?"
   ]
  },
  {
   "cell_type": "markdown",
   "metadata": {},
   "source": [
    "##### Here we can first convert tle list into a set to remove dulicates. Then we willconvert it back to a list and sort it. we can retrieve the second last element to get the second highest number.\n"
   ]
  },
  {
   "cell_type": "code",
   "execution_count": 2,
   "metadata": {},
   "outputs": [
    {
     "name": "stdout",
     "output_type": "stream",
     "text": [
      "5\n"
     ]
    }
   ],
   "source": [
    "def second_highest(numbers):\n",
    "    numbers = list(set(numbers))\n",
    "    numbers.sort()\n",
    "    return numbers[-2]\n",
    "\n",
    "numbers = [1,3,2,4,4,5,6,6]\n",
    "print(second_highest(numbers))"
   ]
  },
  {
   "cell_type": "code",
   "execution_count": 5,
   "metadata": {},
   "outputs": [
    {
     "name": "stdout",
     "output_type": "stream",
     "text": [
      "1\n",
      "2\n"
     ]
    }
   ],
   "source": [
    "names = [1,2,-3,4,6,-8,5,9]\n",
    "for i in names:\n",
    "    if i <0:\n",
    "        break\n",
    "    print(i)"
   ]
  },
  {
   "cell_type": "code",
   "execution_count": 7,
   "metadata": {},
   "outputs": [
    {
     "name": "stdout",
     "output_type": "stream",
     "text": [
      "Countdown:5\n",
      "Countdown:4\n",
      "Countdown:3\n",
      "Countdown:2\n",
      "Countdown:1\n",
      "Time's up!\n"
     ]
    }
   ],
   "source": [
    "count = 5\n",
    "\n",
    "while count > 0:\n",
    "    print(f\"Countdown:{count}\")\n",
    "    count -= 1\n",
    "print(\"Time's up!\")"
   ]
  },
  {
   "cell_type": "code",
   "execution_count": 9,
   "metadata": {},
   "outputs": [
    {
     "name": "stdout",
     "output_type": "stream",
     "text": [
      "Welcome to the club\n"
     ]
    }
   ],
   "source": [
    "def anoop():\n",
    "    print(\"Welcome to the club\")\n",
    "\n",
    "anoop()\n"
   ]
  },
  {
   "cell_type": "code",
   "execution_count": 11,
   "metadata": {},
   "outputs": [
    {
     "name": "stdout",
     "output_type": "stream",
     "text": [
      "Hello anoop, welcome!\n"
     ]
    }
   ],
   "source": [
    "def great(name):\n",
    "    print(f\"Hello {name}, welcome!\")\n",
    "\n",
    "great(\"anoop\")"
   ]
  },
  {
   "cell_type": "code",
   "execution_count": 12,
   "metadata": {},
   "outputs": [
    {
     "name": "stdout",
     "output_type": "stream",
     "text": [
      "9\n"
     ]
    }
   ],
   "source": [
    "def add(a, b):\n",
    "    print(a + b)\n",
    "\n",
    "add(1,8)"
   ]
  },
  {
   "cell_type": "code",
   "execution_count": 13,
   "metadata": {},
   "outputs": [
    {
     "name": "stdout",
     "output_type": "stream",
     "text": [
      "6\n"
     ]
    }
   ],
   "source": [
    "def add(a,b):\n",
    "    return a+b\n",
    "\n",
    "result = add(1,5)\n",
    "print(result)"
   ]
  },
  {
   "cell_type": "code",
   "execution_count": 9,
   "metadata": {},
   "outputs": [
    {
     "name": "stdout",
     "output_type": "stream",
     "text": [
      "cart\n",
      "refund\n"
     ]
    }
   ],
   "source": [
    "class app1:\n",
    "    def v1(self):\n",
    "        print(\"orders\")\n",
    "\n",
    "class app2(app1):\n",
    "    def v2(self):\n",
    "        print(\"refund\")\n",
    "\n",
    "    def v1(self):\n",
    "        print(\"cart\")\n",
    "\n",
    "\n",
    "\n",
    "a = app2()\n",
    "a.v1()\n",
    "a.v2()"
   ]
  },
  {
   "cell_type": "code",
   "execution_count": 11,
   "metadata": {},
   "outputs": [
    {
     "name": "stdout",
     "output_type": "stream",
     "text": [
      "False\n"
     ]
    }
   ],
   "source": [
    "def factorial(string):\n",
    "    reversed_string = string[::-1]\n",
    "    return string == reversed_string\n",
    "\n",
    "string = \"madamman\"\n",
    "result = factorial(string)\n",
    "print(result)\n"
   ]
  },
  {
   "cell_type": "code",
   "execution_count": 14,
   "metadata": {},
   "outputs": [
    {
     "name": "stdout",
     "output_type": "stream",
     "text": [
      "Anoop:A\n",
      "Riya:C\n",
      "John:F\n"
     ]
    }
   ],
   "source": [
    "class student:\n",
    "    def __init__(self, name, marks):\n",
    "        self.name = name\n",
    "        self.marks = marks\n",
    "\n",
    "    def get_grades(self):\n",
    "        if self.marks >= 90:\n",
    "            return 'A'\n",
    "        elif self.marks >= 75:\n",
    "            return 'B'\n",
    "        elif self.marks >= 50:\n",
    "            return 'C'\n",
    "        else:\n",
    "            return 'F'\n",
    "    \n",
    "s1 = student('Anoop', 92)\n",
    "s2 = student('Riya', 68)\n",
    "s3 = student('John', 47)\n",
    "\n",
    "print(f\"{s1.name}:{s1.get_grades()}\")\n",
    "print(f\"{s2.name}:{s2.get_grades()}\")\n",
    "print(f\"{s3.name}:{s3.get_grades()}\")"
   ]
  },
  {
   "cell_type": "code",
   "execution_count": null,
   "metadata": {},
   "outputs": [
    {
     "name": "stdout",
     "output_type": "stream",
     "text": [
      "red car\n",
      "house white\n",
      "factory\n"
     ]
    }
   ],
   "source": [
    "## Inheritance\n",
    "\n",
    "class grandfather():\n",
    "    def car(self):\n",
    "        print(\"red car\")\n",
    "\n",
    "class father(grandfather):\n",
    "    def house(self):\n",
    "        print(\"house white\")\n",
    "\n",
    "class son(father):\n",
    "    def factory(self):\n",
    "        print(\"factory\")\n",
    "\n",
    "v=son()\n",
    "v.car()\n",
    "v.house()\n",
    "v.factory()\n"
   ]
  },
  {
   "cell_type": "code",
   "execution_count": null,
   "metadata": {},
   "outputs": [
    {
     "name": "stdout",
     "output_type": "stream",
     "text": [
      "white house\n",
      "factory\n",
      "white house\n",
      "orange market\n"
     ]
    }
   ],
   "source": [
    "## Hirearchy inheritence\n",
    "\n",
    "class dad:\n",
    "    def house(self):\n",
    "        print(\"white house\")\n",
    "\n",
    "class son1(dad):\n",
    "    def factory(self):\n",
    "        print(\"factory\")\n",
    "\n",
    "class son2(dad):\n",
    "    def market(self):\n",
    "        print(\"orange market\")\n",
    "\n",
    "s=son1()\n",
    "s.house()\n",
    "s.factory()\n",
    "\n",
    "q=son2()\n",
    "q.house()\n",
    "q.market()\n"
   ]
  },
  {
   "cell_type": "code",
   "execution_count": null,
   "metadata": {},
   "outputs": [
    {
     "name": "stdout",
     "output_type": "stream",
     "text": [
      "blue shop\n",
      "white house\n",
      "factory\n"
     ]
    }
   ],
   "source": [
    "## Multiple inheritance\n",
    "\n",
    "## Hirearchy inheritence\n",
    "\n",
    "class dad:\n",
    "    def house(self):\n",
    "        print(\"white house\")\n",
    "\n",
    "class mom:\n",
    "    def shop(self):\n",
    "        print(\"blue shop\")\n",
    "\n",
    "class daughter(dad, mom):   #Multiple class can be inherited\n",
    "    def factory(self):\n",
    "        print(\"factory\")\n",
    "\n",
    "\n",
    "\n",
    "d = daughter()\n",
    "d.shop()\n",
    "d.house()\n",
    "d.factory()\n"
   ]
  },
  {
   "cell_type": "code",
   "execution_count": null,
   "metadata": {},
   "outputs": [],
   "source": [
    "# Polymorphism\n",
    "\n",
    " "
   ]
  },
  {
   "cell_type": "code",
   "execution_count": null,
   "metadata": {},
   "outputs": [],
   "source": [
    "class  Node:\n",
    "    def __init__(self,value):\n",
    "        self.data = value\n",
    "        self.next = None\n",
    "        \n",
    "\n",
    "first = Node(1)\n",
    "second = Node(2)\n",
    "third = Node(3)"
   ]
  },
  {
   "cell_type": "code",
   "execution_count": 26,
   "metadata": {},
   "outputs": [
    {
     "name": "stdout",
     "output_type": "stream",
     "text": [
      "1\n"
     ]
    }
   ],
   "source": [
    "def first_repeat(nums):\n",
    "    seen = set()\n",
    "\n",
    "    for num in nums:\n",
    "        if num in seen:\n",
    "            return num\n",
    "        seen.add(num)\n",
    "    return -1\n",
    "\n",
    "nums = [1,2,1,3,4,1]\n",
    "result = first_repeat(nums)\n",
    "print(result)"
   ]
  },
  {
   "cell_type": "code",
   "execution_count": 28,
   "metadata": {},
   "outputs": [
    {
     "name": "stdout",
     "output_type": "stream",
     "text": [
      "Think of a number between 1 and 100.\n",
      "\n",
      "\n",
      "Is your number 50?\n",
      "Enter:\n",
      "  'h' if it's higher\n",
      "  'l' if it's lower\n",
      "  'c' if it's correct\n",
      "Please enter a valid option: 'h', 'l', or 'c'.\n",
      "\n",
      "Is your number 50?\n",
      "Enter:\n",
      "  'h' if it's higher\n",
      "  'l' if it's lower\n",
      "  'c' if it's correct\n",
      "\n",
      "Is your number 25?\n",
      "Enter:\n",
      "  'h' if it's higher\n",
      "  'l' if it's lower\n",
      "  'c' if it's correct\n",
      "\n",
      "Is your number 12?\n",
      "Enter:\n",
      "  'h' if it's higher\n",
      "  'l' if it's lower\n",
      "  'c' if it's correct\n",
      "\n",
      "Is your number 6?\n",
      "Enter:\n",
      "  'h' if it's higher\n",
      "  'l' if it's lower\n",
      "  'c' if it's correct\n",
      "\n",
      "Is your number 9?\n",
      "Enter:\n",
      "  'h' if it's higher\n",
      "  'l' if it's lower\n",
      "  'c' if it's correct\n",
      "\n",
      "Yay! I guessed it in 6 tries 🎉\n"
     ]
    }
   ],
   "source": [
    "def ai_guess_number(low, high):\n",
    "    print(f\"Think of a number between {low} and {high}.\\n\")\n",
    "    input(\"Press Enter when you're ready...\")\n",
    "\n",
    "    tries = 0\n",
    "    while low <= high:\n",
    "        mid = (low + high) // 2\n",
    "        tries += 1\n",
    "        print(f\"\\nIs your number {mid}?\")\n",
    "        print(\"Enter:\")\n",
    "        print(\"  'h' if it's higher\")\n",
    "        print(\"  'l' if it's lower\")\n",
    "        print(\"  'c' if it's correct\")\n",
    "        response = input(\"Your input (h/l/c): \").lower()\n",
    "\n",
    "        if response == 'c':\n",
    "            print(f\"\\nYay! I guessed it in {tries} tries 🎉\")\n",
    "            return\n",
    "        elif response == 'h':\n",
    "            low = mid + 1\n",
    "        elif response == 'l':\n",
    "            high = mid - 1\n",
    "        else:\n",
    "            print(\"Please enter a valid option: 'h', 'l', or 'c'.\")\n",
    "\n",
    "    print(\"Oops! Something went wrong.\")\n",
    "\n",
    "# Run the game\n",
    "ai_guess_number(1, 100)\n"
   ]
  },
  {
   "cell_type": "code",
   "execution_count": null,
   "metadata": {},
   "outputs": [],
   "source": []
  }
 ],
 "metadata": {
  "kernelspec": {
   "display_name": "Python 3",
   "language": "python",
   "name": "python3"
  },
  "language_info": {
   "codemirror_mode": {
    "name": "ipython",
    "version": 3
   },
   "file_extension": ".py",
   "mimetype": "text/x-python",
   "name": "python",
   "nbconvert_exporter": "python",
   "pygments_lexer": "ipython3",
   "version": "3.10.4"
  }
 },
 "nbformat": 4,
 "nbformat_minor": 2
}
