{
 "cells": [
  {
   "cell_type": "code",
   "execution_count": 1,
   "metadata": {},
   "outputs": [
    {
     "name": "stdout",
     "output_type": "stream",
     "text": [
      "hello\n"
     ]
    }
   ],
   "source": [
    "print(\"hello\")"
   ]
  },
  {
   "cell_type": "code",
   "execution_count": 2,
   "metadata": {},
   "outputs": [
    {
     "name": "stdout",
     "output_type": "stream",
     "text": [
      "John\n"
     ]
    }
   ],
   "source": [
    "age = 18\n",
    "name = \"John\"\n",
    "print(name)"
   ]
  },
  {
   "cell_type": "code",
   "execution_count": 3,
   "metadata": {},
   "outputs": [
    {
     "name": "stdout",
     "output_type": "stream",
     "text": [
      "llo\n"
     ]
    }
   ],
   "source": [
    "msg = \"Hello, world\"\n",
    "print(msg[2:5])"
   ]
  },
  {
   "cell_type": "code",
   "execution_count": 4,
   "metadata": {},
   "outputs": [
    {
     "name": "stdout",
     "output_type": "stream",
     "text": [
      "1\n",
      "2\n"
     ]
    }
   ],
   "source": [
    "mylist = []\n",
    "mylist.append(1)\n",
    "mylist.append(2)\n",
    "for item in mylist:\n",
    "    print(item)"
   ]
  },
  {
   "cell_type": "code",
   "execution_count": 5,
   "metadata": {},
   "outputs": [
    {
     "name": "stdout",
     "output_type": "stream",
     "text": [
      "num is greater than 0\n"
     ]
    }
   ],
   "source": [
    "num = 200\n",
    "if num > 0:\n",
    "    print(\"num is greater than 0\")\n",
    "else:\n",
    "    print(\"num is not greater than 0\")"
   ]
  },
  {
   "cell_type": "code",
   "execution_count": 6,
   "metadata": {},
   "outputs": [
    {
     "name": "stdout",
     "output_type": "stream",
     "text": [
      "0\n",
      "1\n",
      "2\n"
     ]
    }
   ],
   "source": [
    "for item in range(6):\n",
    "    if item ==3: break\n",
    "    print(item)\n",
    "else:\n",
    "    print(\"finally finished\")"
   ]
  },
  {
   "cell_type": "code",
   "execution_count": 7,
   "metadata": {},
   "outputs": [
    {
     "name": "stdout",
     "output_type": "stream",
     "text": [
      "2\n",
      "3\n",
      "5\n",
      "7\n"
     ]
    }
   ],
   "source": [
    "primes = [2, 3, 5, 7]\n",
    "for prime in primes:\n",
    "    print(prime)"
   ]
  },
  {
   "cell_type": "code",
   "execution_count": 8,
   "metadata": {},
   "outputs": [
    {
     "name": "stdout",
     "output_type": "stream",
     "text": [
      "0 dog\n",
      "1 cat\n",
      "2 mouse\n"
     ]
    }
   ],
   "source": [
    "animals = [\"dog\", \"cat\", \"mouse\"]\n",
    "\n",
    "for i, value in enumerate(animals):\n",
    "    print(i, value)"
   ]
  },
  {
   "cell_type": "code",
   "execution_count": 10,
   "metadata": {},
   "outputs": [
    {
     "name": "stdout",
     "output_type": "stream",
     "text": [
      "New York\n",
      "London\n",
      "Paris\n",
      "Tokyo\n"
     ]
    }
   ],
   "source": [
    "cities = [\"New York\", \"London\", \"Paris\", \"Tokyo\"]\n",
    "for city in cities:\n",
    "    print(city)\n"
   ]
  },
  {
   "cell_type": "code",
   "execution_count": 16,
   "metadata": {},
   "outputs": [
    {
     "name": "stdout",
     "output_type": "stream",
     "text": [
      "Hulk\n",
      "ironman\n",
      "batman\n",
      "thor\n"
     ]
    }
   ],
   "source": [
    "names = [\"Hulk\", \"ironman\", \"batman\", \"thor\"]\n",
    "\n",
    "for name in names:\n",
    "    print(name)"
   ]
  },
  {
   "cell_type": "code",
   "execution_count": 27,
   "metadata": {},
   "outputs": [
    {
     "name": "stdout",
     "output_type": "stream",
     "text": [
      "a\n",
      "n\n",
      "o\n",
      "o\n",
      "p\n",
      " \n",
      "k\n",
      "r\n",
      "i\n",
      "s\n",
      "h\n",
      "n\n",
      "a\n"
     ]
    }
   ],
   "source": [
    "words = \"anoop krishna\"\n",
    "for letter in words:\n",
    "    print(letter)"
   ]
  },
  {
   "cell_type": "markdown",
   "metadata": {},
   "source": []
  },
  {
   "cell_type": "code",
   "execution_count": 30,
   "metadata": {},
   "outputs": [
    {
     "name": "stdout",
     "output_type": "stream",
     "text": [
      "name : Anoop\n",
      "age : 29\n",
      "country : india\n"
     ]
    }
   ],
   "source": [
    "person = {\"name\":\"Anoop\", \"age\":29, \"country\":\"india\"}\n",
    "\n",
    "for key, value in person.items():\n",
    "    print(key,\":\", value)"
   ]
  },
  {
   "cell_type": "code",
   "execution_count": 35,
   "metadata": {},
   "outputs": [
    {
     "name": "stdout",
     "output_type": "stream",
     "text": [
      "2\n"
     ]
    }
   ],
   "source": [
    "def missingnumber(nums):\n",
    "    n = len(nums)\n",
    "    total_sum = n * (n+1) //2\n",
    "    array_sum = sum(nums)\n",
    "    return total_sum - array_sum\n",
    "\n",
    "print(missingnumber([3,0,1]))"
   ]
  },
  {
   "cell_type": "code",
   "execution_count": 43,
   "metadata": {},
   "outputs": [
    {
     "name": "stdout",
     "output_type": "stream",
     "text": [
      "[5, 6]\n"
     ]
    }
   ],
   "source": [
    "def duplicates(nums):\n",
    "    result = []\n",
    "    for num in nums:\n",
    "        index = abs(num) - 1\n",
    "        nums[index] = -abs(nums[index])\n",
    "\n",
    "    for i in range (len(nums)):\n",
    "        if nums[i] >0:\n",
    "            result.append(i +1)\n",
    "\n",
    "    return result\n",
    "\n",
    "\n",
    "print(duplicates([4,3,2,7,8,2,3,1]))  # Output: [5,6]\n",
    "\n",
    "\n"
   ]
  },
  {
   "cell_type": "code",
   "execution_count": 44,
   "metadata": {},
   "outputs": [
    {
     "name": "stdout",
     "output_type": "stream",
     "text": [
      "olleh\n"
     ]
    }
   ],
   "source": [
    "def reverse_string(s):\n",
    "    reverse_s = \"\"\n",
    "    for char in s:\n",
    "        reverse_s = char + reverse_s\n",
    "    return reverse_s\n",
    "\n",
    "print(reverse_string(\"hello\"))"
   ]
  },
  {
   "cell_type": "code",
   "execution_count": 45,
   "metadata": {},
   "outputs": [
    {
     "name": "stdout",
     "output_type": "stream",
     "text": [
      "0 2 4 6 8 10 "
     ]
    }
   ],
   "source": [
    "def print_even(n):\n",
    "    for i in range(1+ n+1):\n",
    "        if i % 2==0:\n",
    "            print(i, end=\" \")\n",
    "\n",
    "print_even(10)"
   ]
  },
  {
   "cell_type": "code",
   "execution_count": 46,
   "metadata": {},
   "outputs": [
    {
     "name": "stdout",
     "output_type": "stream",
     "text": [
      "0\n",
      "10\n",
      "20\n",
      "30\n",
      "40\n"
     ]
    }
   ],
   "source": [
    "x =0\n",
    "for index in range(10):\n",
    "    x = index * 10\n",
    "    if index ==5:\n",
    "        break\n",
    "    print(x)"
   ]
  },
  {
   "cell_type": "code",
   "execution_count": 48,
   "metadata": {},
   "outputs": [
    {
     "name": "stdout",
     "output_type": "stream",
     "text": [
      "meow\n",
      "woof\n"
     ]
    }
   ],
   "source": [
    "class Animal:\n",
    "    def __init__(self, voice):\n",
    "        self.voice = voice\n",
    "\n",
    "cat = Animal('meow')\n",
    "print(cat.voice)\n",
    "\n",
    "dog = Animal('woof')\n",
    "print(dog.voice)"
   ]
  },
  {
   "cell_type": "code",
   "execution_count": 1,
   "metadata": {},
   "outputs": [
    {
     "name": "stdout",
     "output_type": "stream",
     "text": [
      "11\n"
     ]
    }
   ],
   "source": [
    "x = '1'\n",
    "y = '1'\n",
    "print(x+y)"
   ]
  },
  {
   "cell_type": "code",
   "execution_count": 2,
   "metadata": {},
   "outputs": [
    {
     "name": "stdout",
     "output_type": "stream",
     "text": [
      "25 <class 'int'>\n"
     ]
    }
   ],
   "source": [
    "age = 25\n",
    "print(age, type(age))"
   ]
  },
  {
   "cell_type": "code",
   "execution_count": 3,
   "metadata": {},
   "outputs": [
    {
     "name": "stdout",
     "output_type": "stream",
     "text": [
      "Your order is : Chiken Biriyani\n"
     ]
    }
   ],
   "source": [
    "def order():\n",
    "    food = \"Chiken Biriyani\"\n",
    "    print(\"Your order is :\",food)\n",
    "\n",
    "order()"
   ]
  },
  {
   "cell_type": "code",
   "execution_count": 5,
   "metadata": {},
   "outputs": [
    {
     "name": "stdout",
     "output_type": "stream",
     "text": [
      "Welcome: Anoop Krishna\n",
      "welcome to homepage\n"
     ]
    }
   ],
   "source": [
    "user_id = \"Anoop Krishna\"\n",
    "\n",
    "def homepage():\n",
    "    print(\"Welcome:\", user_id)\n",
    "\n",
    "def profile():\n",
    "    print(\"welcome to homepage\")\n",
    "\n",
    "homepage()\n",
    "profile()"
   ]
  },
  {
   "cell_type": "code",
   "execution_count": null,
   "metadata": {},
   "outputs": [
    {
     "data": {
      "text/plain": [
       "'\\nThis is a new code\\n'"
      ]
     },
     "execution_count": 8,
     "metadata": {},
     "output_type": "execute_result"
    }
   ],
   "source": []
  },
  {
   "cell_type": "code",
   "execution_count": 10,
   "metadata": {},
   "outputs": [
    {
     "name": "stdout",
     "output_type": "stream",
     "text": [
      "she is a female\n"
     ]
    }
   ],
   "source": [
    "age  = 22\n",
    "if age >= 30:\n",
    " print(\"he is an adult \")\n",
    "\n",
    "elif age < 25:\n",
    " print(\"she is a female\")\n",
    "\n",
    "else:\n",
    " print(\"he is an student\")"
   ]
  },
  {
   "cell_type": "code",
   "execution_count": 13,
   "metadata": {},
   "outputs": [
    {
     "name": "stdout",
     "output_type": "stream",
     "text": [
      "20% discount\n"
     ]
    }
   ],
   "source": [
    "order_amount = 1000\n",
    "days = 'saturday'\n",
    "membership = 'gold'\n",
    "\n",
    "if (order_amount >= 1000 and days in['sat','sun']) or membership=='gold':\n",
    "    print(\"20% discount\")\n",
    "else:\n",
    "    print(\"no discount\")"
   ]
  },
  {
   "cell_type": "code",
   "execution_count": 16,
   "metadata": {},
   "outputs": [
    {
     "name": "stdout",
     "output_type": "stream",
     "text": [
      "ANOOP\n",
      "ARJUN\n",
      "AMAL\n",
      "SAI\n"
     ]
    }
   ],
   "source": [
    "names = ['anoop','arjun','amal','sai']\n",
    "\n",
    "for name in names:\n",
    "    print(name.upper())"
   ]
  },
  {
   "cell_type": "code",
   "execution_count": 17,
   "metadata": {},
   "outputs": [
    {
     "name": "stdout",
     "output_type": "stream",
     "text": [
      "access granted\n"
     ]
    }
   ],
   "source": [
    "correct_pin = '1234'\n",
    "entered_pin = ''\n",
    "\n",
    "while entered_pin != correct_pin:\n",
    "    entered_pin = input(\"enter your correct pin:\")\n",
    "\n",
    "print(\"access granted\")\n"
   ]
  },
  {
   "cell_type": "code",
   "execution_count": null,
   "metadata": {},
   "outputs": [],
   "source": []
  }
 ],
 "metadata": {
  "kernelspec": {
   "display_name": "Python 3",
   "language": "python",
   "name": "python3"
  },
  "language_info": {
   "codemirror_mode": {
    "name": "ipython",
    "version": 3
   },
   "file_extension": ".py",
   "mimetype": "text/x-python",
   "name": "python",
   "nbconvert_exporter": "python",
   "pygments_lexer": "ipython3",
   "version": "3.10.4"
  }
 },
 "nbformat": 4,
 "nbformat_minor": 2
}
